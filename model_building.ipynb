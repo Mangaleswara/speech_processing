{
 "cells": [
  {
   "cell_type": "code",
   "execution_count": 5,
   "id": "94addb5a",
   "metadata": {},
   "outputs": [],
   "source": [
    "import numpy as np\n",
    "import pandas as pd\n",
    "import matplotlib.pyplot as plt\n",
    "from sklearn.preprocessing import StandardScaler\n",
    "import seaborn as sn\n",
    "from sklearn.model_selection import train_test_split"
   ]
  },
  {
   "cell_type": "markdown",
   "id": "d57eb769",
   "metadata": {},
   "source": [
    "Loading the Dataset"
   ]
  },
  {
   "cell_type": "code",
   "execution_count": 6,
   "id": "16f167f0",
   "metadata": {},
   "outputs": [],
   "source": [
    "data=pd.read_csv(\"data.csv\")"
   ]
  },
  {
   "cell_type": "code",
   "execution_count": 7,
   "id": "3b4a5959",
   "metadata": {},
   "outputs": [
    {
     "data": {
      "text/html": [
       "<div>\n",
       "<style scoped>\n",
       "    .dataframe tbody tr th:only-of-type {\n",
       "        vertical-align: middle;\n",
       "    }\n",
       "\n",
       "    .dataframe tbody tr th {\n",
       "        vertical-align: top;\n",
       "    }\n",
       "\n",
       "    .dataframe thead th {\n",
       "        text-align: right;\n",
       "    }\n",
       "</style>\n",
       "<table border=\"1\" class=\"dataframe\">\n",
       "  <thead>\n",
       "    <tr style=\"text-align: right;\">\n",
       "      <th></th>\n",
       "      <th>Jitter(%)</th>\n",
       "      <th>Jitter(Abs)</th>\n",
       "      <th>Jitter:RAP</th>\n",
       "      <th>Jitter:PPQ5</th>\n",
       "      <th>Jitter:DDP</th>\n",
       "      <th>Shimmer</th>\n",
       "      <th>Shimmer(dB)</th>\n",
       "      <th>Shimmer:APQ3</th>\n",
       "      <th>Shimmer:APQ5</th>\n",
       "      <th>Shimmer:APQ11</th>\n",
       "      <th>Shimmer:DDA</th>\n",
       "      <th>NHR</th>\n",
       "      <th>HNR</th>\n",
       "      <th>RPDE</th>\n",
       "      <th>DFA</th>\n",
       "      <th>PPE</th>\n",
       "      <th>Class Status</th>\n",
       "    </tr>\n",
       "  </thead>\n",
       "  <tbody>\n",
       "    <tr>\n",
       "      <th>0</th>\n",
       "      <td>0.00348</td>\n",
       "      <td>0.000024</td>\n",
       "      <td>0.00178</td>\n",
       "      <td>0.00191</td>\n",
       "      <td>0.00533</td>\n",
       "      <td>0.03977</td>\n",
       "      <td>0.366</td>\n",
       "      <td>0.02164</td>\n",
       "      <td>0.02182</td>\n",
       "      <td>0.03484</td>\n",
       "      <td>0.06493</td>\n",
       "      <td>0.010534</td>\n",
       "      <td>21.963</td>\n",
       "      <td>0.46413</td>\n",
       "      <td>0.57414</td>\n",
       "      <td>0.16807</td>\n",
       "      <td>1</td>\n",
       "    </tr>\n",
       "    <tr>\n",
       "      <th>1</th>\n",
       "      <td>0.00097</td>\n",
       "      <td>0.000004</td>\n",
       "      <td>0.00009</td>\n",
       "      <td>0.00025</td>\n",
       "      <td>0.00028</td>\n",
       "      <td>0.15674</td>\n",
       "      <td>1.409</td>\n",
       "      <td>0.07499</td>\n",
       "      <td>0.11461</td>\n",
       "      <td>0.14489</td>\n",
       "      <td>0.22496</td>\n",
       "      <td>0.079020</td>\n",
       "      <td>11.965</td>\n",
       "      <td>0.59795</td>\n",
       "      <td>0.62956</td>\n",
       "      <td>0.75490</td>\n",
       "      <td>0</td>\n",
       "    </tr>\n",
       "    <tr>\n",
       "      <th>2</th>\n",
       "      <td>0.00302</td>\n",
       "      <td>0.000013</td>\n",
       "      <td>0.00153</td>\n",
       "      <td>0.00141</td>\n",
       "      <td>0.00459</td>\n",
       "      <td>0.02070</td>\n",
       "      <td>0.202</td>\n",
       "      <td>0.01098</td>\n",
       "      <td>0.01226</td>\n",
       "      <td>0.01493</td>\n",
       "      <td>0.03294</td>\n",
       "      <td>0.020105</td>\n",
       "      <td>29.753</td>\n",
       "      <td>0.26885</td>\n",
       "      <td>0.63601</td>\n",
       "      <td>0.15521</td>\n",
       "      <td>1</td>\n",
       "    </tr>\n",
       "    <tr>\n",
       "      <th>3</th>\n",
       "      <td>0.00774</td>\n",
       "      <td>0.000022</td>\n",
       "      <td>0.00194</td>\n",
       "      <td>0.00263</td>\n",
       "      <td>0.00581</td>\n",
       "      <td>0.21267</td>\n",
       "      <td>1.862</td>\n",
       "      <td>0.09314</td>\n",
       "      <td>0.09946</td>\n",
       "      <td>0.07348</td>\n",
       "      <td>0.27941</td>\n",
       "      <td>0.511002</td>\n",
       "      <td>3.415</td>\n",
       "      <td>0.59176</td>\n",
       "      <td>0.65600</td>\n",
       "      <td>0.78174</td>\n",
       "      <td>0</td>\n",
       "    </tr>\n",
       "    <tr>\n",
       "      <th>4</th>\n",
       "      <td>0.00636</td>\n",
       "      <td>0.000034</td>\n",
       "      <td>0.00316</td>\n",
       "      <td>0.00332</td>\n",
       "      <td>0.00949</td>\n",
       "      <td>0.03586</td>\n",
       "      <td>0.363</td>\n",
       "      <td>0.01515</td>\n",
       "      <td>0.01751</td>\n",
       "      <td>0.03408</td>\n",
       "      <td>0.04545</td>\n",
       "      <td>0.041365</td>\n",
       "      <td>17.798</td>\n",
       "      <td>0.65999</td>\n",
       "      <td>0.64159</td>\n",
       "      <td>0.32376</td>\n",
       "      <td>1</td>\n",
       "    </tr>\n",
       "    <tr>\n",
       "      <th>...</th>\n",
       "      <td>...</td>\n",
       "      <td>...</td>\n",
       "      <td>...</td>\n",
       "      <td>...</td>\n",
       "      <td>...</td>\n",
       "      <td>...</td>\n",
       "      <td>...</td>\n",
       "      <td>...</td>\n",
       "      <td>...</td>\n",
       "      <td>...</td>\n",
       "      <td>...</td>\n",
       "      <td>...</td>\n",
       "      <td>...</td>\n",
       "      <td>...</td>\n",
       "      <td>...</td>\n",
       "      <td>...</td>\n",
       "      <td>...</td>\n",
       "    </tr>\n",
       "    <tr>\n",
       "      <th>235</th>\n",
       "      <td>0.00814</td>\n",
       "      <td>0.000052</td>\n",
       "      <td>0.00334</td>\n",
       "      <td>0.00404</td>\n",
       "      <td>0.01003</td>\n",
       "      <td>0.03820</td>\n",
       "      <td>0.377</td>\n",
       "      <td>0.01841</td>\n",
       "      <td>0.02190</td>\n",
       "      <td>0.03578</td>\n",
       "      <td>0.05522</td>\n",
       "      <td>0.028033</td>\n",
       "      <td>17.069</td>\n",
       "      <td>0.62887</td>\n",
       "      <td>0.75147</td>\n",
       "      <td>0.33377</td>\n",
       "      <td>1</td>\n",
       "    </tr>\n",
       "    <tr>\n",
       "      <th>236</th>\n",
       "      <td>0.00571</td>\n",
       "      <td>0.000032</td>\n",
       "      <td>0.00309</td>\n",
       "      <td>0.00279</td>\n",
       "      <td>0.00928</td>\n",
       "      <td>0.01757</td>\n",
       "      <td>0.154</td>\n",
       "      <td>0.00964</td>\n",
       "      <td>0.00963</td>\n",
       "      <td>0.01262</td>\n",
       "      <td>0.02891</td>\n",
       "      <td>0.018780</td>\n",
       "      <td>23.226</td>\n",
       "      <td>0.51443</td>\n",
       "      <td>0.66074</td>\n",
       "      <td>0.19073</td>\n",
       "      <td>1</td>\n",
       "    </tr>\n",
       "    <tr>\n",
       "      <th>237</th>\n",
       "      <td>0.00294</td>\n",
       "      <td>0.000018</td>\n",
       "      <td>0.00050</td>\n",
       "      <td>0.00127</td>\n",
       "      <td>0.00149</td>\n",
       "      <td>0.05587</td>\n",
       "      <td>0.498</td>\n",
       "      <td>0.02922</td>\n",
       "      <td>0.03577</td>\n",
       "      <td>0.05396</td>\n",
       "      <td>0.08765</td>\n",
       "      <td>0.025277</td>\n",
       "      <td>17.277</td>\n",
       "      <td>0.65426</td>\n",
       "      <td>0.69168</td>\n",
       "      <td>0.82140</td>\n",
       "      <td>0</td>\n",
       "    </tr>\n",
       "    <tr>\n",
       "      <th>238</th>\n",
       "      <td>0.07183</td>\n",
       "      <td>0.000364</td>\n",
       "      <td>0.04356</td>\n",
       "      <td>0.04744</td>\n",
       "      <td>0.13068</td>\n",
       "      <td>0.16993</td>\n",
       "      <td>1.548</td>\n",
       "      <td>0.08442</td>\n",
       "      <td>0.11389</td>\n",
       "      <td>0.09560</td>\n",
       "      <td>0.25326</td>\n",
       "      <td>0.725370</td>\n",
       "      <td>2.206</td>\n",
       "      <td>0.82670</td>\n",
       "      <td>0.63404</td>\n",
       "      <td>0.43811</td>\n",
       "      <td>1</td>\n",
       "    </tr>\n",
       "    <tr>\n",
       "      <th>239</th>\n",
       "      <td>0.00580</td>\n",
       "      <td>0.000041</td>\n",
       "      <td>0.00276</td>\n",
       "      <td>0.00312</td>\n",
       "      <td>0.00827</td>\n",
       "      <td>0.02768</td>\n",
       "      <td>0.242</td>\n",
       "      <td>0.01555</td>\n",
       "      <td>0.01758</td>\n",
       "      <td>0.01996</td>\n",
       "      <td>0.04665</td>\n",
       "      <td>0.020589</td>\n",
       "      <td>21.423</td>\n",
       "      <td>0.45793</td>\n",
       "      <td>0.66908</td>\n",
       "      <td>0.21821</td>\n",
       "      <td>1</td>\n",
       "    </tr>\n",
       "  </tbody>\n",
       "</table>\n",
       "<p>240 rows × 17 columns</p>\n",
       "</div>"
      ],
      "text/plain": [
       "     Jitter(%)  Jitter(Abs)  Jitter:RAP  Jitter:PPQ5  Jitter:DDP  Shimmer  \\\n",
       "0      0.00348     0.000024     0.00178      0.00191     0.00533  0.03977   \n",
       "1      0.00097     0.000004     0.00009      0.00025     0.00028  0.15674   \n",
       "2      0.00302     0.000013     0.00153      0.00141     0.00459  0.02070   \n",
       "3      0.00774     0.000022     0.00194      0.00263     0.00581  0.21267   \n",
       "4      0.00636     0.000034     0.00316      0.00332     0.00949  0.03586   \n",
       "..         ...          ...         ...          ...         ...      ...   \n",
       "235    0.00814     0.000052     0.00334      0.00404     0.01003  0.03820   \n",
       "236    0.00571     0.000032     0.00309      0.00279     0.00928  0.01757   \n",
       "237    0.00294     0.000018     0.00050      0.00127     0.00149  0.05587   \n",
       "238    0.07183     0.000364     0.04356      0.04744     0.13068  0.16993   \n",
       "239    0.00580     0.000041     0.00276      0.00312     0.00827  0.02768   \n",
       "\n",
       "     Shimmer(dB)  Shimmer:APQ3  Shimmer:APQ5  Shimmer:APQ11  Shimmer:DDA  \\\n",
       "0          0.366       0.02164       0.02182        0.03484      0.06493   \n",
       "1          1.409       0.07499       0.11461        0.14489      0.22496   \n",
       "2          0.202       0.01098       0.01226        0.01493      0.03294   \n",
       "3          1.862       0.09314       0.09946        0.07348      0.27941   \n",
       "4          0.363       0.01515       0.01751        0.03408      0.04545   \n",
       "..           ...           ...           ...            ...          ...   \n",
       "235        0.377       0.01841       0.02190        0.03578      0.05522   \n",
       "236        0.154       0.00964       0.00963        0.01262      0.02891   \n",
       "237        0.498       0.02922       0.03577        0.05396      0.08765   \n",
       "238        1.548       0.08442       0.11389        0.09560      0.25326   \n",
       "239        0.242       0.01555       0.01758        0.01996      0.04665   \n",
       "\n",
       "          NHR     HNR     RPDE      DFA      PPE  Class Status  \n",
       "0    0.010534  21.963  0.46413  0.57414  0.16807             1  \n",
       "1    0.079020  11.965  0.59795  0.62956  0.75490             0  \n",
       "2    0.020105  29.753  0.26885  0.63601  0.15521             1  \n",
       "3    0.511002   3.415  0.59176  0.65600  0.78174             0  \n",
       "4    0.041365  17.798  0.65999  0.64159  0.32376             1  \n",
       "..        ...     ...      ...      ...      ...           ...  \n",
       "235  0.028033  17.069  0.62887  0.75147  0.33377             1  \n",
       "236  0.018780  23.226  0.51443  0.66074  0.19073             1  \n",
       "237  0.025277  17.277  0.65426  0.69168  0.82140             0  \n",
       "238  0.725370   2.206  0.82670  0.63404  0.43811             1  \n",
       "239  0.020589  21.423  0.45793  0.66908  0.21821             1  \n",
       "\n",
       "[240 rows x 17 columns]"
      ]
     },
     "execution_count": 7,
     "metadata": {},
     "output_type": "execute_result"
    }
   ],
   "source": [
    "data"
   ]
  },
  {
   "cell_type": "markdown",
   "id": "adb546e3",
   "metadata": {},
   "source": [
    "Checking null values and others"
   ]
  },
  {
   "cell_type": "code",
   "execution_count": 8,
   "id": "b9a04470",
   "metadata": {},
   "outputs": [
    {
     "data": {
      "text/plain": [
       "Jitter(%)        0\n",
       "Jitter(Abs)      0\n",
       "Jitter:RAP       0\n",
       "Jitter:PPQ5      0\n",
       "Jitter:DDP       0\n",
       "Shimmer          0\n",
       "Shimmer(dB)      0\n",
       "Shimmer:APQ3     0\n",
       "Shimmer:APQ5     0\n",
       "Shimmer:APQ11    0\n",
       "Shimmer:DDA      0\n",
       "NHR              0\n",
       "HNR              0\n",
       "RPDE             0\n",
       "DFA              0\n",
       "PPE              0\n",
       "Class Status     0\n",
       "dtype: int64"
      ]
     },
     "execution_count": 8,
     "metadata": {},
     "output_type": "execute_result"
    }
   ],
   "source": [
    "data.isnull().sum()"
   ]
  },
  {
   "cell_type": "code",
   "execution_count": 9,
   "id": "dbc13282",
   "metadata": {},
   "outputs": [],
   "source": [
    "X = data.drop([\"Class Status\"],axis=1)\n",
    "y = data[\"Class Status\"]"
   ]
  },
  {
   "cell_type": "markdown",
   "id": "336dc31c",
   "metadata": {},
   "source": [
    "**Test Train Split**"
   ]
  },
  {
   "cell_type": "code",
   "execution_count": 16,
   "id": "9df47421",
   "metadata": {},
   "outputs": [],
   "source": [
    "X_train, X_test,y_train, y_test = train_test_split(X,y ,\n",
    "                                   random_state=104, \n",
    "                                   test_size=0.2, \n",
    "                                   shuffle=True)"
   ]
  },
  {
   "cell_type": "markdown",
   "id": "7eef8bfa",
   "metadata": {},
   "source": [
    "**Standard scaling**"
   ]
  },
  {
   "cell_type": "code",
   "execution_count": 17,
   "id": "a39be899",
   "metadata": {},
   "outputs": [],
   "source": [
    "from sklearn.linear_model import LogisticRegression\n",
    "from sklearn.metrics import classification_report, confusion_matrix\n",
    "from sklearn.preprocessing import StandardScaler, OneHotEncoder\n",
    "\n",
    "# Instantiate encoder/scaler\n",
    "scaler = StandardScaler()\n",
    "\n",
    "\n",
    "# train data\n",
    "# Scale and Encode Separate Columns\n",
    "train_scaled_columns  = scaler.fit_transform(X_train) \n",
    "train_x=scaler.fit_transform(X_train)\n",
    "test_x=scaler.fit_transform(X_test)"
   ]
  },
  {
   "cell_type": "markdown",
   "id": "f22e02ba",
   "metadata": {},
   "source": [
    "**Logistic Regression**"
   ]
  },
  {
   "cell_type": "code",
   "execution_count": 19,
   "id": "31e2b8e8",
   "metadata": {},
   "outputs": [],
   "source": [
    "model = LogisticRegression(solver='lbfgs').fit(test_x,y_test)"
   ]
  },
  {
   "cell_type": "code",
   "execution_count": 20,
   "id": "6bf8816e",
   "metadata": {},
   "outputs": [
    {
     "data": {
      "text/plain": [
       "array([[20,  4],\n",
       "       [ 1, 23]], dtype=int64)"
      ]
     },
     "execution_count": 20,
     "metadata": {},
     "output_type": "execute_result"
    }
   ],
   "source": [
    "confusion_matrix(y_test, model.predict(test_x))"
   ]
  },
  {
   "cell_type": "code",
   "execution_count": 21,
   "id": "00341ef5",
   "metadata": {},
   "outputs": [
    {
     "name": "stdout",
     "output_type": "stream",
     "text": [
      "              precision    recall  f1-score   support\n",
      "\n",
      "           0       0.95      0.83      0.89        24\n",
      "           1       0.85      0.96      0.90        24\n",
      "\n",
      "    accuracy                           0.90        48\n",
      "   macro avg       0.90      0.90      0.90        48\n",
      "weighted avg       0.90      0.90      0.90        48\n",
      "\n"
     ]
    }
   ],
   "source": [
    "print(classification_report(y_test, model.predict(test_x)))"
   ]
  },
  {
   "cell_type": "markdown",
   "id": "8b6f9964",
   "metadata": {},
   "source": [
    "**Gaussian Naive bayes**"
   ]
  },
  {
   "cell_type": "code",
   "execution_count": 22,
   "id": "8080110c",
   "metadata": {},
   "outputs": [],
   "source": [
    "#the best\n",
    "from sklearn.naive_bayes import GaussianNB #oversample does better\n",
    "gnb = GaussianNB()\n",
    "gnb.fit(train_x, y_train)\n",
    "y_pred = gnb.predict(test_x)"
   ]
  },
  {
   "cell_type": "code",
   "execution_count": 23,
   "id": "87fa1005",
   "metadata": {},
   "outputs": [
    {
     "data": {
      "text/plain": [
       "array([[21,  3],\n",
       "       [ 7, 17]], dtype=int64)"
      ]
     },
     "execution_count": 23,
     "metadata": {},
     "output_type": "execute_result"
    }
   ],
   "source": [
    "confusion_matrix(y_test, y_pred)"
   ]
  },
  {
   "cell_type": "code",
   "execution_count": 24,
   "id": "22513af9",
   "metadata": {},
   "outputs": [
    {
     "name": "stdout",
     "output_type": "stream",
     "text": [
      "              precision    recall  f1-score   support\n",
      "\n",
      "           0       0.75      0.88      0.81        24\n",
      "           1       0.85      0.71      0.77        24\n",
      "\n",
      "    accuracy                           0.79        48\n",
      "   macro avg       0.80      0.79      0.79        48\n",
      "weighted avg       0.80      0.79      0.79        48\n",
      "\n"
     ]
    }
   ],
   "source": [
    "print(classification_report(y_test, y_pred))"
   ]
  },
  {
   "cell_type": "markdown",
   "id": "05d41835",
   "metadata": {},
   "source": [
    "**Support Vector Machines**"
   ]
  },
  {
   "cell_type": "code",
   "execution_count": 42,
   "id": "04dbaaf7",
   "metadata": {},
   "outputs": [],
   "source": [
    "from sklearn.svm import SVC  \n",
    "clf = SVC(kernel='linear') \n",
    "model=clf.fit(train_x, y_train)\n",
    "pred=model.predict(test_x)"
   ]
  },
  {
   "cell_type": "code",
   "execution_count": 43,
   "id": "bdc9b86c",
   "metadata": {},
   "outputs": [
    {
     "data": {
      "text/plain": [
       "array([[20,  4],\n",
       "       [ 0, 24]], dtype=int64)"
      ]
     },
     "execution_count": 43,
     "metadata": {},
     "output_type": "execute_result"
    }
   ],
   "source": [
    "confusion_matrix(y_test, pred)"
   ]
  },
  {
   "cell_type": "code",
   "execution_count": 44,
   "id": "99f47f2b",
   "metadata": {},
   "outputs": [
    {
     "name": "stdout",
     "output_type": "stream",
     "text": [
      "              precision    recall  f1-score   support\n",
      "\n",
      "           0       1.00      0.83      0.91        24\n",
      "           1       0.86      1.00      0.92        24\n",
      "\n",
      "    accuracy                           0.92        48\n",
      "   macro avg       0.93      0.92      0.92        48\n",
      "weighted avg       0.93      0.92      0.92        48\n",
      "\n"
     ]
    }
   ],
   "source": [
    "print(classification_report(y_test, pred))"
   ]
  },
  {
   "cell_type": "markdown",
   "id": "880ba82b",
   "metadata": {},
   "source": [
    "**Decision tree**"
   ]
  },
  {
   "cell_type": "code",
   "execution_count": 46,
   "id": "2399fab7",
   "metadata": {},
   "outputs": [],
   "source": [
    "from sklearn.tree import DecisionTreeClassifier"
   ]
  },
  {
   "cell_type": "code",
   "execution_count": 47,
   "id": "f7de2061",
   "metadata": {},
   "outputs": [],
   "source": [
    "clf_gini = DecisionTreeClassifier(criterion = \"gini\",\n",
    "            random_state = 100)"
   ]
  },
  {
   "cell_type": "code",
   "execution_count": 48,
   "id": "eea5e47d",
   "metadata": {},
   "outputs": [],
   "source": [
    "clf_gini.fit(train_x, y_train)\n",
    "y_pred = clf_gini.predict(test_x)"
   ]
  },
  {
   "cell_type": "code",
   "execution_count": 49,
   "id": "407e814f",
   "metadata": {},
   "outputs": [
    {
     "data": {
      "text/plain": [
       "array([[23,  1],\n",
       "       [ 7, 17]], dtype=int64)"
      ]
     },
     "execution_count": 49,
     "metadata": {},
     "output_type": "execute_result"
    }
   ],
   "source": [
    "confusion_matrix(y_test, y_pred)"
   ]
  },
  {
   "cell_type": "code",
   "execution_count": 50,
   "id": "2bb33f38",
   "metadata": {},
   "outputs": [
    {
     "name": "stdout",
     "output_type": "stream",
     "text": [
      "              precision    recall  f1-score   support\n",
      "\n",
      "           0       0.77      0.96      0.85        24\n",
      "           1       0.94      0.71      0.81        24\n",
      "\n",
      "    accuracy                           0.83        48\n",
      "   macro avg       0.86      0.83      0.83        48\n",
      "weighted avg       0.86      0.83      0.83        48\n",
      "\n"
     ]
    }
   ],
   "source": [
    "print(classification_report(y_test, y_pred))"
   ]
  },
  {
   "cell_type": "markdown",
   "id": "8579ec5b",
   "metadata": {},
   "source": [
    "#  Ensemble models"
   ]
  },
  {
   "cell_type": "markdown",
   "id": "67ebc10a",
   "metadata": {},
   "source": [
    "**Random Forest**"
   ]
  },
  {
   "cell_type": "code",
   "execution_count": 51,
   "id": "b90e0b14",
   "metadata": {},
   "outputs": [],
   "source": [
    "from sklearn.ensemble import RandomForestClassifier\n",
    "clf = RandomForestClassifier(n_estimators = 100)\n",
    "clf.fit(train_x, y_train)\n",
    "y_pred = clf.predict(test_x)"
   ]
  },
  {
   "cell_type": "code",
   "execution_count": 52,
   "id": "98463bb8",
   "metadata": {},
   "outputs": [
    {
     "data": {
      "text/plain": [
       "array([[22,  2],\n",
       "       [ 5, 19]], dtype=int64)"
      ]
     },
     "execution_count": 52,
     "metadata": {},
     "output_type": "execute_result"
    }
   ],
   "source": [
    "confusion_matrix(y_test, y_pred)"
   ]
  },
  {
   "cell_type": "code",
   "execution_count": 53,
   "id": "7fd25953",
   "metadata": {},
   "outputs": [
    {
     "name": "stdout",
     "output_type": "stream",
     "text": [
      "              precision    recall  f1-score   support\n",
      "\n",
      "           0       0.81      0.92      0.86        24\n",
      "           1       0.90      0.79      0.84        24\n",
      "\n",
      "    accuracy                           0.85        48\n",
      "   macro avg       0.86      0.85      0.85        48\n",
      "weighted avg       0.86      0.85      0.85        48\n",
      "\n"
     ]
    }
   ],
   "source": [
    "print(classification_report(y_test, y_pred))"
   ]
  },
  {
   "cell_type": "markdown",
   "id": "cff5a320",
   "metadata": {},
   "source": [
    "**LightGBM**"
   ]
  },
  {
   "cell_type": "code",
   "execution_count": 55,
   "id": "bb61c838",
   "metadata": {},
   "outputs": [],
   "source": [
    "import lightgbm as lgb\n",
    "from lightgbm import LGBMClassifier"
   ]
  },
  {
   "cell_type": "code",
   "execution_count": 56,
   "id": "c7fa908b",
   "metadata": {},
   "outputs": [],
   "source": [
    "model = LGBMClassifier() \n",
    "model.fit(train_x, y_train)\n",
    "pred = model.predict(test_x)\n",
    "accuracy = model.score(test_x, y_test)"
   ]
  },
  {
   "cell_type": "code",
   "execution_count": 57,
   "id": "646e2359",
   "metadata": {},
   "outputs": [
    {
     "data": {
      "text/plain": [
       "array([[22,  2],\n",
       "       [ 5, 19]], dtype=int64)"
      ]
     },
     "execution_count": 57,
     "metadata": {},
     "output_type": "execute_result"
    }
   ],
   "source": [
    "confusion_matrix(y_test, pred)"
   ]
  },
  {
   "cell_type": "code",
   "execution_count": 58,
   "id": "c4df7645",
   "metadata": {},
   "outputs": [
    {
     "name": "stdout",
     "output_type": "stream",
     "text": [
      "              precision    recall  f1-score   support\n",
      "\n",
      "           0       0.81      0.92      0.86        24\n",
      "           1       0.90      0.79      0.84        24\n",
      "\n",
      "    accuracy                           0.85        48\n",
      "   macro avg       0.86      0.85      0.85        48\n",
      "weighted avg       0.86      0.85      0.85        48\n",
      "\n"
     ]
    }
   ],
   "source": [
    "print(classification_report(y_test, pred))"
   ]
  },
  {
   "cell_type": "markdown",
   "id": "5f0fa14d",
   "metadata": {},
   "source": [
    "**Extra Trees Classifier**"
   ]
  },
  {
   "cell_type": "code",
   "execution_count": 59,
   "id": "5d41e0ea",
   "metadata": {},
   "outputs": [],
   "source": [
    "from sklearn.ensemble import ExtraTreesClassifier #undersample does better\n",
    "extra_tree_forest = ExtraTreesClassifier(\n",
    "                                        criterion ='entropy')\n",
    "extra_tree_forest.fit(train_x, y_train)\n",
    "pred = extra_tree_forest.predict(test_x)\n",
    "accuracy = extra_tree_forest.score(test_x, y_test)"
   ]
  },
  {
   "cell_type": "code",
   "execution_count": 60,
   "id": "9edba26b",
   "metadata": {},
   "outputs": [
    {
     "data": {
      "text/plain": [
       "array([[21,  3],\n",
       "       [ 1, 23]], dtype=int64)"
      ]
     },
     "execution_count": 60,
     "metadata": {},
     "output_type": "execute_result"
    }
   ],
   "source": [
    "confusion_matrix(y_test, pred)"
   ]
  },
  {
   "cell_type": "code",
   "execution_count": 61,
   "id": "28d284ae",
   "metadata": {},
   "outputs": [
    {
     "name": "stdout",
     "output_type": "stream",
     "text": [
      "              precision    recall  f1-score   support\n",
      "\n",
      "           0       0.95      0.88      0.91        24\n",
      "           1       0.88      0.96      0.92        24\n",
      "\n",
      "    accuracy                           0.92        48\n",
      "   macro avg       0.92      0.92      0.92        48\n",
      "weighted avg       0.92      0.92      0.92        48\n",
      "\n"
     ]
    }
   ],
   "source": [
    "print(classification_report(y_test, pred))"
   ]
  },
  {
   "cell_type": "markdown",
   "id": "9134a940",
   "metadata": {},
   "source": [
    "**XGBoost**"
   ]
  },
  {
   "cell_type": "code",
   "execution_count": 63,
   "id": "127ad895",
   "metadata": {},
   "outputs": [],
   "source": [
    "import xgboost as xgb\n",
    "xg_reg = xgb.XGBClassifier()"
   ]
  },
  {
   "cell_type": "code",
   "execution_count": 64,
   "id": "2890d4c9",
   "metadata": {},
   "outputs": [],
   "source": [
    "xg_reg.fit(train_x, y_train)\n",
    "pred = xg_reg.predict(test_x)"
   ]
  },
  {
   "cell_type": "code",
   "execution_count": 65,
   "id": "180b31fe",
   "metadata": {},
   "outputs": [
    {
     "data": {
      "text/plain": [
       "array([[23,  1],\n",
       "       [ 4, 20]], dtype=int64)"
      ]
     },
     "execution_count": 65,
     "metadata": {},
     "output_type": "execute_result"
    }
   ],
   "source": [
    "confusion_matrix(y_test, pred)"
   ]
  },
  {
   "cell_type": "code",
   "execution_count": 66,
   "id": "e7d7f328",
   "metadata": {},
   "outputs": [
    {
     "name": "stdout",
     "output_type": "stream",
     "text": [
      "              precision    recall  f1-score   support\n",
      "\n",
      "           0       0.85      0.96      0.90        24\n",
      "           1       0.95      0.83      0.89        24\n",
      "\n",
      "    accuracy                           0.90        48\n",
      "   macro avg       0.90      0.90      0.90        48\n",
      "weighted avg       0.90      0.90      0.90        48\n",
      "\n"
     ]
    }
   ],
   "source": [
    "print(classification_report(y_test, pred))"
   ]
  },
  {
   "cell_type": "code",
   "execution_count": null,
   "id": "badc2143",
   "metadata": {},
   "outputs": [],
   "source": []
  }
 ],
 "metadata": {
  "kernelspec": {
   "display_name": "Python 3 (ipykernel)",
   "language": "python",
   "name": "python3"
  },
  "language_info": {
   "codemirror_mode": {
    "name": "ipython",
    "version": 3
   },
   "file_extension": ".py",
   "mimetype": "text/x-python",
   "name": "python",
   "nbconvert_exporter": "python",
   "pygments_lexer": "ipython3",
   "version": "3.9.12"
  }
 },
 "nbformat": 4,
 "nbformat_minor": 5
}
