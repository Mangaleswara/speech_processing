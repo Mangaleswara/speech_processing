{
 "cells": [
  {
   "cell_type": "code",
   "execution_count": null,
   "id": "975f317a",
   "metadata": {},
   "outputs": [],
   "source": [
    "from flask import Flask\n",
    "from flask import request\n",
    "from flask import render_template\n",
    "import os\n",
    "\n",
    "app = Flask(__name__)\n",
    "\n",
    "\n",
    "@app.route(\"/\", methods=['POST', 'GET'])\n",
    "def index():\n",
    "    if request.method == \"POST\":\n",
    "        f = request.files['audio_data']\n",
    "        with open('audio.wav', 'wb') as audio:\n",
    "            f.save(audio)\n",
    "        print('file uploaded successfully')\n",
    "\n",
    "        return render_template('index.html', request=\"POST\")\n",
    "    else:\n",
    "        return render_template(\"index.html\")\n",
    "\n",
    "\n",
    "if __name__ == \"__main__\":\n",
    "    app.run(debug=True)"
   ]
  }
 ],
 "metadata": {
  "kernelspec": {
   "display_name": "Python 3 (ipykernel)",
   "language": "python",
   "name": "python3"
  },
  "language_info": {
   "codemirror_mode": {
    "name": "ipython",
    "version": 3
   },
   "file_extension": ".py",
   "mimetype": "text/x-python",
   "name": "python",
   "nbconvert_exporter": "python",
   "pygments_lexer": "ipython3",
   "version": "3.9.12"
  }
 },
 "nbformat": 4,
 "nbformat_minor": 5
}
